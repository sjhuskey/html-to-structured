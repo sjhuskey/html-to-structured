{
 "cells": [
  {
   "cell_type": "code",
   "execution_count": 6,
   "metadata": {},
   "outputs": [
    {
     "name": "stdout",
     "output_type": "stream",
     "text": [
      "Fixed HTML saved to '/Users/sjhuskey/Library/CloudStorage/OneDrive-UniversityofOklahoma/DH/Bradford/html-to-structured/mvp_modified4_output_fixed.html'.\n"
     ]
    }
   ],
   "source": [
    "from bs4 import BeautifulSoup\n",
    "\n",
    "def fix_blockquote_tags(input_file_path, output_file_path):\n",
    "    with open(input_file_path, 'r', encoding='utf-8') as file:\n",
    "        soup = BeautifulSoup(file, 'html.parser')\n",
    "\n",
    "    # Find all blockquote tags\n",
    "    blockquotes = soup.find_all('blockquote')\n",
    "\n",
    "    for blockquote in blockquotes:\n",
    "        # Check if there are nested blockquote tags\n",
    "        nested_blockquotes = blockquote.find_all('blockquote')\n",
    "        for nested in nested_blockquotes:\n",
    "            nested.decompose()\n",
    "\n",
    "    # Write the fixed HTML to the output file\n",
    "    with open(output_file_path, 'w', encoding='utf-8') as file:\n",
    "        file.write(str(soup))\n",
    "\n",
    "# Modify the paths to your input HTML file and output HTML file\n",
    "input_file_path = '/Users/sjhuskey/Library/CloudStorage/OneDrive-UniversityofOklahoma/DH/Bradford/html-to-structured/mvp_modified4_output.html'\n",
    "output_file_path = '/Users/sjhuskey/Library/CloudStorage/OneDrive-UniversityofOklahoma/DH/Bradford/html-to-structured/mvp_modified4_output_fixed.html'\n",
    "fix_blockquote_tags(input_file_path, output_file_path)\n",
    "\n",
    "print(f\"Fixed HTML saved to '{output_file_path}'.\")"
   ]
  },
  {
   "cell_type": "code",
   "execution_count": 10,
   "metadata": {},
   "outputs": [
    {
     "name": "stdout",
     "output_type": "stream",
     "text": [
      "Data conversion complete. HTML saved to 'newmvp-to-word-part1.html'.\n",
      "Data conversion complete. HTML saved to 'newmvp-to-word-part2.html'.\n",
      "Data conversion complete. HTML saved to 'newmvp-to-word-part3.html'.\n"
     ]
    }
   ],
   "source": [
    "import json\n",
    "import math\n",
    "\n",
    "# Function to convert JSON entry to HTML\n",
    "def json_to_html(entry):\n",
    "    html = f'<div id=\"braford_{entry[\"identifier\"]}\">\\n'\n",
    "    html += f'<p class=\"name\"><strong>Name: </strong>{entry[\"name\"]}</p>\\n'\n",
    "    html += f'<p class=\"date\"><strong>Date: </strong>{\"No date\" if not entry[\"date\"] else entry[\"date\"]}</p>\\n'\n",
    "    for source in entry[\"sources\"]:\n",
    "        if source[\"Reference\"]:\n",
    "            html += f'<p class=\"source\"><strong>Source: </strong>{source[\"Reference\"]}. {source[\"Resource\"]}</p>\\n'\n",
    "        else:\n",
    "            html += f'<p class=\"source\"><strong>Source: </strong>{source[\"Resource\"]}</p>\\n'\n",
    "    for description in entry[\"descriptions\"]:\n",
    "        html += f'<p class=\"description\"><strong>Description: </strong> {description[\"description\"]}</p>\\n'\n",
    "    html += '</div>\\n|--------------------|\\n'\n",
    "    return html\n",
    "\n",
    "# Read JSON data from file\n",
    "input_file_path = 'output_fixed.json'  # Replace with the actual path to your JSON file\n",
    "\n",
    "with open(input_file_path, 'r', encoding='utf-8') as file:\n",
    "    data = json.load(file)\n",
    "\n",
    "# Calculate the number of entries per group\n",
    "total_entries = len(data)\n",
    "entries_per_group = math.ceil(total_entries / 3)\n",
    "\n",
    "# Function to create HTML content for a group of entries\n",
    "def create_html_content(entries):\n",
    "    html_content = '''<!DOCTYPE html>\n",
    "<html lang=\"en\">\n",
    "<head>\n",
    "    <meta charset=\"UTF-8\">\n",
    "    <meta name=\"viewport\" content=\"width=device-width, initial-scale=1.0\">\n",
    "    <title>Converted JSON to HTML</title>\n",
    "</head>\n",
    "<body>\n",
    "'''\n",
    "    for entry in entries:\n",
    "        html_content += json_to_html(entry)\n",
    "    html_content += '''\n",
    "</body>\n",
    "</html>\n",
    "'''\n",
    "    return html_content\n",
    "\n",
    "# Create three separate HTML documents\n",
    "for i in range(3):\n",
    "    group_entries = data[i * entries_per_group:(i + 1) * entries_per_group]\n",
    "    html_content = create_html_content(group_entries)\n",
    "    output_file_path = f'newmvp-to-word-part{i + 1}.html'  # Replace with the actual path to your output HTML file\n",
    "    with open(output_file_path, 'w', encoding='utf-8') as file:\n",
    "        file.write(html_content)\n",
    "    print(f\"Data conversion complete. HTML saved to '{output_file_path}'.\")"
   ]
  },
  {
   "cell_type": "code",
   "execution_count": 9,
   "metadata": {},
   "outputs": [
    {
     "name": "stdout",
     "output_type": "stream",
     "text": [
      "Data conversion complete. CSV saved to 'new_output.csv'.\n"
     ]
    }
   ],
   "source": [
    "import json\n",
    "import csv\n",
    "\n",
    "# Read JSON data from file\n",
    "input_file_path = 'output.json'  # Replace with the actual path to your JSON file\n",
    "output_file_path = 'new_output.csv'  # Replace with the actual path to your output CSV file\n",
    "\n",
    "with open(input_file_path, 'r', encoding='utf-8') as file:\n",
    "    data = json.load(file)\n",
    "\n",
    "# Open the CSV file for writing\n",
    "with open(output_file_path, 'w', newline='', encoding='utf-8') as csvfile:\n",
    "    fieldnames = ['identifier', 'name', 'date', 'source', 'reference', 'description']\n",
    "    writer = csv.DictWriter(csvfile, fieldnames=fieldnames)\n",
    "\n",
    "    writer.writeheader()\n",
    "\n",
    "    # Iterate over each entry in the JSON data\n",
    "    for entry in data:\n",
    "        identifier = entry['identifier']\n",
    "        name = entry['name']\n",
    "        date = entry['date']\n",
    "\n",
    "        # Write rows for sources\n",
    "        for source in entry['sources']:\n",
    "            writer.writerow({\n",
    "                'identifier': identifier,\n",
    "                'name': name,\n",
    "                'date': date,\n",
    "                'source': source['Resource'],\n",
    "                'reference': source['Reference'],\n",
    "                'description': ''\n",
    "            })\n",
    "\n",
    "        # Write rows for descriptions\n",
    "        for description in entry['descriptions']:\n",
    "            writer.writerow({\n",
    "                'identifier': identifier,\n",
    "                'name': name,\n",
    "                'date': date,\n",
    "                'source': '',\n",
    "                'reference': '',\n",
    "                'description': description['description']\n",
    "            })\n",
    "\n",
    "print(f\"Data conversion complete. CSV saved to '{output_file_path}'.\")"
   ]
  },
  {
   "cell_type": "code",
   "execution_count": null,
   "metadata": {},
   "outputs": [],
   "source": []
  }
 ],
 "metadata": {
  "kernelspec": {
   "display_name": "bradford",
   "language": "python",
   "name": "python3"
  },
  "language_info": {
   "codemirror_mode": {
    "name": "ipython",
    "version": 3
   },
   "file_extension": ".py",
   "mimetype": "text/x-python",
   "name": "python",
   "nbconvert_exporter": "python",
   "pygments_lexer": "ipython3",
   "version": "3.10.15"
  }
 },
 "nbformat": 4,
 "nbformat_minor": 2
}
