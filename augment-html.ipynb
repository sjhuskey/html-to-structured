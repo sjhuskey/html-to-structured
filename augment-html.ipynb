{
 "cells": [
  {
   "cell_type": "code",
   "execution_count": 1,
   "metadata": {},
   "outputs": [],
   "source": [
    "from bs4 import BeautifulSoup\n",
    "\n",
    "def modify_html(input_file_path, output_file_path):\n",
    "    with open(input_file_path, 'r', encoding='utf-8') as file:\n",
    "        soup = BeautifulSoup(file, 'html.parser')\n",
    "\n",
    "    tables = soup.find_all('table')\n",
    "    for table in tables:\n",
    "        next_sibling = table.find_next_sibling()\n",
    "        if next_sibling and next_sibling.name == 'blockquote':\n",
    "            paragraphs = next_sibling.find_all('p')\n",
    "            if len(paragraphs) > 1:\n",
    "                paragraphs[0]['class'] = 'source'\n",
    "                for p in paragraphs[1:]:\n",
    "                    p['class'] = 'description'\n",
    "    with open(output_file_path, 'w', encoding='utf-8') as file:\n",
    "        file.write(str(soup))\n",
    "\n",
    "# Modify the paths to your input and output HTML files\n",
    "input_file_path = 'mvp.html'\n",
    "output_file_path = 'mvp_modified3.html'\n",
    "modify_html(input_file_path, output_file_path)"
   ]
  },
  {
   "cell_type": "code",
   "execution_count": 4,
   "metadata": {},
   "outputs": [],
   "source": [
    "from bs4 import BeautifulSoup\n",
    "\n",
    "def modify_html(input_file_path, output_file_path):\n",
    "    with open(input_file_path, 'r', encoding='utf-8') as file:\n",
    "        soup = BeautifulSoup(file, 'html.parser')\n",
    "\n",
    "    tables = soup.find_all('table')\n",
    "    for table in tables:\n",
    "        next_sibling = table.find_next_sibling()\n",
    "        if not next_sibling or next_sibling.name != 'blockquote':\n",
    "            paragraphs = []\n",
    "            sibling = table.find_next_sibling()\n",
    "            while sibling and sibling.name != 'table':\n",
    "                next_sibling = sibling.find_next_sibling()\n",
    "                if sibling.name == 'p':\n",
    "                    paragraphs.append(sibling)\n",
    "                sibling = next_sibling\n",
    "\n",
    "            if paragraphs:\n",
    "                blockquote = soup.new_tag('blockquote')\n",
    "                paragraphs[0]['class'] = 'source'\n",
    "                blockquote.append(paragraphs[0])\n",
    "                for p in paragraphs[1:]:\n",
    "                    p['class'] = 'description'\n",
    "                    blockquote.append(p)\n",
    "                table.insert_after(blockquote)\n",
    "\n",
    "    with open(output_file_path, 'w', encoding='utf-8') as file:\n",
    "        file.write(str(soup))\n",
    "\n",
    "# Modify the paths to your input HTML file and output HTML file\n",
    "input_file_path = '/Users/sjhuskey/Library/CloudStorage/OneDrive-UniversityofOklahoma/DH/Bradford/html-to-structured/mvp_modified2.html'\n",
    "output_file_path = '/Users/sjhuskey/Library/CloudStorage/OneDrive-UniversityofOklahoma/DH/Bradford/html-to-structured/mvp_modified97.html'\n",
    "modify_html(input_file_path, output_file_path)"
   ]
  },
  {
   "cell_type": "code",
   "execution_count": 2,
   "metadata": {},
   "outputs": [],
   "source": [
    "from bs4 import BeautifulSoup\n",
    "\n",
    "def add_class_to_paragraphs(input_file_path, output_file_path):\n",
    "    with open(input_file_path, 'r', encoding='utf-8') as file:\n",
    "        soup = BeautifulSoup(file, 'html.parser')\n",
    "\n",
    "    blockquotes = soup.find_all('blockquote')\n",
    "    for blockquote in blockquotes:\n",
    "        paragraphs = blockquote.find_all('p')\n",
    "        for p in paragraphs:\n",
    "            if not p.has_attr('class'):\n",
    "                p['class'] = 'description'\n",
    "\n",
    "    with open(output_file_path, 'w', encoding='utf-8') as file:\n",
    "        file.write(str(soup))\n",
    "\n",
    "# Modify the paths to your input HTML file and output HTML file\n",
    "input_file_path = '/Users/sjhuskey/Library/CloudStorage/OneDrive-UniversityofOklahoma/DH/Bradford/html-to-structured/mvp_modified4.html'\n",
    "output_file_path = '/Users/sjhuskey/Library/CloudStorage/OneDrive-UniversityofOklahoma/DH/Bradford/html-to-structured/mvp_modified4_output.html'\n",
    "add_class_to_paragraphs(input_file_path, output_file_path)"
   ]
  },
  {
   "cell_type": "code",
   "execution_count": null,
   "metadata": {},
   "outputs": [],
   "source": []
  }
 ],
 "metadata": {
  "kernelspec": {
   "display_name": "bradford",
   "language": "python",
   "name": "python3"
  },
  "language_info": {
   "codemirror_mode": {
    "name": "ipython",
    "version": 3
   },
   "file_extension": ".py",
   "mimetype": "text/x-python",
   "name": "python",
   "nbconvert_exporter": "python",
   "pygments_lexer": "ipython3",
   "version": "3.10.15"
  }
 },
 "nbformat": 4,
 "nbformat_minor": 2
}
